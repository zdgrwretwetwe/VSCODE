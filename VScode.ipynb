{
  "nbformat": 4,
  "nbformat_minor": 0,
  "metadata": {
    "colab": {
      "name": "VScode.ipynb",
      "provenance": [],
      "collapsed_sections": [],
      "include_colab_link": true
    },
    "kernelspec": {
      "name": "python3",
      "display_name": "Python 3"
    },
    "language_info": {
      "name": "python"
    },
    "accelerator": "GPU"
  },
  "cells": [
    {
      "cell_type": "markdown",
      "metadata": {
        "id": "view-in-github",
        "colab_type": "text"
      },
      "source": [
        "<a href=\"https://colab.research.google.com/github/zdgrwretwetwe/VSCODE/blob/main/VScode.ipynb\" target=\"_parent\"><img src=\"https://colab.research.google.com/assets/colab-badge.svg\" alt=\"Open In Colab\"/></a>"
      ]
    },
    {
      "cell_type": "code",
      "execution_count": null,
      "metadata": {
        "id": "z2vRcIpE7MbE"
      },
      "outputs": [],
      "source": [
        "#@title STEP 1 : CEK GPU, MASSSSS. { display-mode: \"form\" }\n",
        "! nvidia-smi -L"
      ]
    },
    {
      "cell_type": "code",
      "source": [
        "#@title STEP 2 : RUN VSCODE UNTUK MEMBUKA TERMINAL { display-mode: \"form\" }\n",
        "!pip install gpu-tpu-lab-server \n",
        "from gpu_tpu_lab_server.core import jupyter_lab, vscode, run_process_in_background, run_process_in_foreground \n",
        "vscode()"
      ],
      "metadata": {
        "id": "muZ3PHcL7e59"
      },
      "execution_count": null,
      "outputs": []
    },
    {
      "cell_type": "markdown",
      "source": [
        "**Auto Reconnect**\n",
        "\n",
        "Press F12 >>> Select Console>>> Paste this code\n",
        "```\n",
        "function ClickConnect() {\n",
        "  console.log('Working')\n",
        "  document\n",
        "    .querySelector('#top-toolbar > colab-connect-button')\n",
        "    .shadowRoot.querySelector('#connect')\n",
        "    .click()\n",
        "}\n",
        "\n",
        "setInterval(ClickConnect, 60000)\n",
        "\n"
      ],
      "metadata": {
        "id": "o0PJTUMB7j4U"
      }
    },
    {
      "cell_type": "markdown",
      "source": [
        "**CREATE BY KHAMPRET COMUNITY**"
      ],
      "metadata": {
        "id": "RTF__KKi7lMV"
      }
    }
  ]
}